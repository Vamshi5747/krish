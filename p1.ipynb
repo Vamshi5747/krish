{
 "cells": [
  {
   "cell_type": "code",
   "execution_count": 1,
   "id": "3adf0103",
   "metadata": {},
   "outputs": [],
   "source": [
    "import numpy as np\n",
    "import pandas as pd"
   ]
  },
  {
   "cell_type": "code",
   "execution_count": 2,
   "id": "2e196f90",
   "metadata": {},
   "outputs": [],
   "source": [
    "data = pd.read_csv(\"/Users/vamshikrishna/Downloads/X_train_fast.csv\")"
   ]
  },
  {
   "cell_type": "code",
   "execution_count": 3,
   "id": "441ad20c",
   "metadata": {},
   "outputs": [
    {
     "data": {
      "text/html": [
       "<div>\n",
       "<style scoped>\n",
       "    .dataframe tbody tr th:only-of-type {\n",
       "        vertical-align: middle;\n",
       "    }\n",
       "\n",
       "    .dataframe tbody tr th {\n",
       "        vertical-align: top;\n",
       "    }\n",
       "\n",
       "    .dataframe thead th {\n",
       "        text-align: right;\n",
       "    }\n",
       "</style>\n",
       "<table border=\"1\" class=\"dataframe\">\n",
       "  <thead>\n",
       "    <tr style=\"text-align: right;\">\n",
       "      <th></th>\n",
       "      <th>Question</th>\n",
       "      <th>Label</th>\n",
       "      <th>Is Label Correct? Yes, No, or Close</th>\n",
       "      <th>Mahesh's comments</th>\n",
       "      <th>Unnamed: 4</th>\n",
       "    </tr>\n",
       "  </thead>\n",
       "  <tbody>\n",
       "    <tr>\n",
       "      <th>0</th>\n",
       "      <td>one number is 4 less than another . the differ...</td>\n",
       "      <td>word problem  simple system of linear equation...</td>\n",
       "      <td>Yes</td>\n",
       "      <td>NaN</td>\n",
       "      <td>NaN</td>\n",
       "    </tr>\n",
       "    <tr>\n",
       "      <th>1</th>\n",
       "      <td>one number is seven less than another . the su...</td>\n",
       "      <td>word problem  simple system of linear equation...</td>\n",
       "      <td>Yes</td>\n",
       "      <td>NaN</td>\n",
       "      <td>NaN</td>\n",
       "    </tr>\n",
       "    <tr>\n",
       "      <th>2</th>\n",
       "      <td>find two numbers whose sum is 53 and whose dif...</td>\n",
       "      <td>word problem  simple system of linear equation...</td>\n",
       "      <td>Yes</td>\n",
       "      <td>NaN</td>\n",
       "      <td>NaN</td>\n",
       "    </tr>\n",
       "    <tr>\n",
       "      <th>3</th>\n",
       "      <td>the sum of two consecutive integers is 145 . f...</td>\n",
       "      <td>word problem  simple system of linear equation...</td>\n",
       "      <td>Yes</td>\n",
       "      <td>NaN</td>\n",
       "      <td>NaN</td>\n",
       "    </tr>\n",
       "    <tr>\n",
       "      <th>4</th>\n",
       "      <td>the second of two numbers is 4 more than the f...</td>\n",
       "      <td>word problem  simple system of linear equation...</td>\n",
       "      <td>Yes</td>\n",
       "      <td>NaN</td>\n",
       "      <td>NaN</td>\n",
       "    </tr>\n",
       "  </tbody>\n",
       "</table>\n",
       "</div>"
      ],
      "text/plain": [
       "                                            Question  \\\n",
       "0  one number is 4 less than another . the differ...   \n",
       "1  one number is seven less than another . the su...   \n",
       "2  find two numbers whose sum is 53 and whose dif...   \n",
       "3  the sum of two consecutive integers is 145 . f...   \n",
       "4  the second of two numbers is 4 more than the f...   \n",
       "\n",
       "                                               Label  \\\n",
       "0  word problem  simple system of linear equation...   \n",
       "1  word problem  simple system of linear equation...   \n",
       "2  word problem  simple system of linear equation...   \n",
       "3  word problem  simple system of linear equation...   \n",
       "4  word problem  simple system of linear equation...   \n",
       "\n",
       "  Is Label Correct? Yes, No, or Close Mahesh's comments Unnamed: 4  \n",
       "0                                Yes                NaN        NaN  \n",
       "1                                 Yes               NaN        NaN  \n",
       "2                                 Yes               NaN        NaN  \n",
       "3                                 Yes               NaN        NaN  \n",
       "4                                 Yes               NaN        NaN  "
      ]
     },
     "execution_count": 3,
     "metadata": {},
     "output_type": "execute_result"
    }
   ],
   "source": [
    "data.head()"
   ]
  },
  {
   "cell_type": "code",
   "execution_count": 4,
   "id": "a0e2a68e",
   "metadata": {},
   "outputs": [],
   "source": [
    "df = data.drop([\"Mahesh's comments\",  \"Unnamed: 4\", \"Is Label Correct? Yes, No, or Close\"], axis =1)"
   ]
  },
  {
   "cell_type": "code",
   "execution_count": 5,
   "id": "b6a7821a",
   "metadata": {},
   "outputs": [
    {
     "data": {
      "text/html": [
       "<div>\n",
       "<style scoped>\n",
       "    .dataframe tbody tr th:only-of-type {\n",
       "        vertical-align: middle;\n",
       "    }\n",
       "\n",
       "    .dataframe tbody tr th {\n",
       "        vertical-align: top;\n",
       "    }\n",
       "\n",
       "    .dataframe thead th {\n",
       "        text-align: right;\n",
       "    }\n",
       "</style>\n",
       "<table border=\"1\" class=\"dataframe\">\n",
       "  <thead>\n",
       "    <tr style=\"text-align: right;\">\n",
       "      <th></th>\n",
       "      <th>Question</th>\n",
       "      <th>Label</th>\n",
       "    </tr>\n",
       "  </thead>\n",
       "  <tbody>\n",
       "    <tr>\n",
       "      <th>0</th>\n",
       "      <td>one number is 4 less than another . the differ...</td>\n",
       "      <td>word problem  simple system of linear equation...</td>\n",
       "    </tr>\n",
       "    <tr>\n",
       "      <th>1</th>\n",
       "      <td>one number is seven less than another . the su...</td>\n",
       "      <td>word problem  simple system of linear equation...</td>\n",
       "    </tr>\n",
       "    <tr>\n",
       "      <th>2</th>\n",
       "      <td>find two numbers whose sum is 53 and whose dif...</td>\n",
       "      <td>word problem  simple system of linear equation...</td>\n",
       "    </tr>\n",
       "    <tr>\n",
       "      <th>3</th>\n",
       "      <td>the sum of two consecutive integers is 145 . f...</td>\n",
       "      <td>word problem  simple system of linear equation...</td>\n",
       "    </tr>\n",
       "    <tr>\n",
       "      <th>4</th>\n",
       "      <td>the second of two numbers is 4 more than the f...</td>\n",
       "      <td>word problem  simple system of linear equation...</td>\n",
       "    </tr>\n",
       "    <tr>\n",
       "      <th>...</th>\n",
       "      <td>...</td>\n",
       "      <td>...</td>\n",
       "    </tr>\n",
       "    <tr>\n",
       "      <th>11085</th>\n",
       "      <td>how do you make the numbers 0 to 20 using four...</td>\n",
       "      <td>permutations and combinations</td>\n",
       "    </tr>\n",
       "    <tr>\n",
       "      <th>11086</th>\n",
       "      <td>one canned juice drink is percentage  orange j...</td>\n",
       "      <td>word problem  system of linear equations in tw...</td>\n",
       "    </tr>\n",
       "    <tr>\n",
       "      <th>11087</th>\n",
       "      <td>d two numbers whose product is 32 and whose di...</td>\n",
       "      <td>word problem  simple system of linear equation...</td>\n",
       "    </tr>\n",
       "    <tr>\n",
       "      <th>11088</th>\n",
       "      <td>would i find the height of a cylinder with a 6...</td>\n",
       "      <td>scaled models and application of scaling</td>\n",
       "    </tr>\n",
       "    <tr>\n",
       "      <th>11089</th>\n",
       "      <td>what is the quotient if 3 / 14 of 10 is divide...</td>\n",
       "      <td>dividing mixed numbers</td>\n",
       "    </tr>\n",
       "  </tbody>\n",
       "</table>\n",
       "<p>11090 rows × 2 columns</p>\n",
       "</div>"
      ],
      "text/plain": [
       "                                                Question  \\\n",
       "0      one number is 4 less than another . the differ...   \n",
       "1      one number is seven less than another . the su...   \n",
       "2      find two numbers whose sum is 53 and whose dif...   \n",
       "3      the sum of two consecutive integers is 145 . f...   \n",
       "4      the second of two numbers is 4 more than the f...   \n",
       "...                                                  ...   \n",
       "11085  how do you make the numbers 0 to 20 using four...   \n",
       "11086  one canned juice drink is percentage  orange j...   \n",
       "11087  d two numbers whose product is 32 and whose di...   \n",
       "11088  would i find the height of a cylinder with a 6...   \n",
       "11089  what is the quotient if 3 / 14 of 10 is divide...   \n",
       "\n",
       "                                                   Label  \n",
       "0      word problem  simple system of linear equation...  \n",
       "1      word problem  simple system of linear equation...  \n",
       "2      word problem  simple system of linear equation...  \n",
       "3      word problem  simple system of linear equation...  \n",
       "4      word problem  simple system of linear equation...  \n",
       "...                                                  ...  \n",
       "11085                      permutations and combinations  \n",
       "11086  word problem  system of linear equations in tw...  \n",
       "11087  word problem  simple system of linear equation...  \n",
       "11088           scaled models and application of scaling  \n",
       "11089                             dividing mixed numbers  \n",
       "\n",
       "[11090 rows x 2 columns]"
      ]
     },
     "execution_count": 5,
     "metadata": {},
     "output_type": "execute_result"
    }
   ],
   "source": [
    "df"
   ]
  },
  {
   "cell_type": "code",
   "execution_count": 50,
   "id": "c55754cf",
   "metadata": {},
   "outputs": [
    {
     "data": {
      "text/plain": [
       "42"
      ]
     },
     "execution_count": 50,
     "metadata": {},
     "output_type": "execute_result"
    }
   ],
   "source": [
    "len(df[\"Label\"].unique())"
   ]
  },
  {
   "cell_type": "code",
   "execution_count": 6,
   "id": "3ad69af2",
   "metadata": {
    "collapsed": true,
    "jupyter": {
     "outputs_hidden": true
    },
    "tags": []
   },
   "outputs": [
    {
     "data": {
      "text/plain": [
       "word problem  probability                                                                                                                 844\n",
       "word problem  simple system of linear equations with two variables                                                                        743\n",
       "permutations and combinations                                                                                                             505\n",
       "slope of line  parallel line  perpendicular line  given points                                                                            448\n",
       "word problem  simple system of linear equations with two variables  knowledge of fractions and ratios                                     414\n",
       "word problem  linear equation in one variable  knowledge of percentage                                                                    403\n",
       "word problem  simple system of linear equations with two variables  knowledge of simple interest                                          383\n",
       "dividing mixed numbers                                                                                                                    350\n",
       "word problem  system of equations with two varibles  knowledge of quadratics  area formula                                                347\n",
       "word problem  simple linear equation in one variable                                                                                      347\n",
       "word problem  simple system of linear equations with two variables  knowledge of decimal numbers                                          346\n",
       "scaled models and application of scaling                                                                                                  314\n",
       "word problem  calculating percentage                                                                                                      311\n",
       "word problem  ratios  similar triangles                                                                                                   302\n",
       "word problem  linear equation in one variable  application of speed  distance and time                                                    298\n",
       "word problem  simple linear equation in one variable  knowledge of fractions and ratios                                                   294\n",
       "word problem  combined rates  harmonic mean                                                                                               287\n",
       "word problem  simple system of linear equations with two variables  knowledge of upstream and downstream speeds  distance and time        267\n",
       "word problem  simple system of linear equations with two variables  knowledge of perimeter                                                266\n",
       "word problem  simple system of linear equations with three or more variables                                                              259\n",
       "word problem  simple application of ratio  equivalent fractions                                                                           257\n",
       "sequences and progressions                                                                                                                255\n",
       "forward percentage                                                                                                                        235\n",
       "word problem  setting up a straight line equation  solve for x given y                                                                    233\n",
       "word problem  linear equation in one variable  knowledge of average and mean                                                              232\n",
       "word problem  system of linear equations in two variables  knowledge of percentage                                                        220\n",
       "word problem  simple system of linear equations with two variables  knowledge of decimal numbers  extra step after solution               213\n",
       "word problem  set theory venn diagram                                                                                                     192\n",
       "least common multiple                                                                                                                     181\n",
       "exponential growth and decay                                                                                                              174\n",
       "word problem  setting up equations of two straight lines  finding point of intersection  system of linear equations with two variables    169\n",
       "word problem  application of relative speed                                                                                               157\n",
       "word problem  simple system of linear equations with one                                                                                  136\n",
       "word problem  simple system of equations with two variables  knowledge of quadratic equations                                             131\n",
       "forward discount percentage                                                                                                               127\n",
       "permutations and combinations problem with digits                                                                                         119\n",
       "inverse percentage                                                                                                                        110\n",
       "word problem  simple system of linear equations in two variables  knowledge of relative speed                                              84\n",
       "word problem  forward application of multiplication and addition                                                                           76\n",
       "word problem  simple system of linear equations with two variables  knowledge of relationship between a number and its digits              59\n",
       "                                                                                                                                            1\n",
       "mixed fractions                                                                                                                             1\n",
       "Name: Label, dtype: int64"
      ]
     },
     "execution_count": 6,
     "metadata": {},
     "output_type": "execute_result"
    }
   ],
   "source": [
    "df['Label'].value_counts()"
   ]
  },
  {
   "cell_type": "code",
   "execution_count": null,
   "id": "5fe9bc0b",
   "metadata": {},
   "outputs": [
    {
     "data": {
      "text/plain": [
       "Question    0\n",
       "Label       0\n",
       "dtype: int64"
      ]
     },
     "execution_count": 7,
     "metadata": {},
     "output_type": "execute_result"
    }
   ],
   "source": [
    "df.isnull().sum()"
   ]
  },
  {
   "cell_type": "code",
   "execution_count": 9,
   "id": "a6ac7c90",
   "metadata": {},
   "outputs": [],
   "source": [
    "X = df[\"Question\"]\n",
    "y = df['Label']"
   ]
  },
  {
   "cell_type": "code",
   "execution_count": 10,
   "id": "2cb2f603",
   "metadata": {},
   "outputs": [],
   "source": [
    "from sklearn.model_selection import train_test_split"
   ]
  },
  {
   "cell_type": "code",
   "execution_count": 11,
   "id": "ba2acc6c",
   "metadata": {},
   "outputs": [],
   "source": [
    "x_train, x_test, y_train, y_test = train_test_split(X, y,test_size=0.3,\n",
    "                                                    random_state=0, shuffle=True)"
   ]
  },
  {
   "cell_type": "code",
   "execution_count": 12,
   "id": "f1c5a50d",
   "metadata": {},
   "outputs": [
    {
     "data": {
      "text/plain": [
       "11017    solve percentage  of 180 is what number ? clus...\n",
       "7170     what is 0 . 999999 . in fraction form ? cluster12\n",
       "4290     the probability of obtaining heads from a sing...\n",
       "9879     esh can finish a piece of work in 10 days . ro...\n",
       "6161           what decimal part of 240 is 160 ? cluster17\n",
       "                               ...                        \n",
       "4859     alice is making casserole snacks . each snack ...\n",
       "3264     a grocer needs to mix tea worth dollar per pou...\n",
       "9845     a card drawn from a well - shuffled deck of 52...\n",
       "10799    sally can paint a house in 4 hours , and john ...\n",
       "2732     problem a was solved by percentage  of the stu...\n",
       "Name: Question, Length: 7763, dtype: object"
      ]
     },
     "execution_count": 12,
     "metadata": {},
     "output_type": "execute_result"
    }
   ],
   "source": [
    "x_train"
   ]
  },
  {
   "cell_type": "code",
   "execution_count": 13,
   "id": "132c1dcc",
   "metadata": {},
   "outputs": [
    {
     "data": {
      "text/plain": [
       "11017                                   inverse percentage\n",
       "7170                  word problem  calculating percentage\n",
       "4290                             word problem  probability\n",
       "9879                         permutations and combinations\n",
       "6161                  word problem  calculating percentage\n",
       "                               ...                        \n",
       "4859                         permutations and combinations\n",
       "3264     word problem  simple system of linear equation...\n",
       "9845     word problem  simple linear equation in one va...\n",
       "10799          word problem  combined rates  harmonic mean\n",
       "2732                 word problem  set theory venn diagram\n",
       "Name: Label, Length: 7763, dtype: object"
      ]
     },
     "execution_count": 13,
     "metadata": {},
     "output_type": "execute_result"
    }
   ],
   "source": [
    "y_train"
   ]
  },
  {
   "cell_type": "code",
   "execution_count": 104,
   "id": "9b098323",
   "metadata": {},
   "outputs": [],
   "source": [
    "from sklearn.pipeline import Pipeline\n",
    "# there will be lot of repeated processes for training and testing the dataset separately,\n",
    "# to avoid that we are using pipeline\n",
    "\n",
    "from sklearn.feature_extraction.text import TfidfVectorizer\n",
    "from sklearn.feature_extraction.text import CountVectorizer\n",
    "# we are importing TfidfVectorizer to utilize bag of words model in sklearn\n",
    "\n",
    "from sklearn.ensemble import RandomForestClassifier\n",
    "from sklearn.tree import DecisionTreeClassifier\n",
    "from sklearn import svm"
   ]
  },
  {
   "cell_type": "code",
   "execution_count": 105,
   "id": "7ae7a682",
   "metadata": {},
   "outputs": [],
   "source": [
    "classifier = Pipeline([('tfidf', TfidfVectorizer()), ('classifier', svm.SVC(kernel='linear'))])"
   ]
  },
  {
   "cell_type": "code",
   "execution_count": 119,
   "id": "e0394cdd",
   "metadata": {},
   "outputs": [
    {
     "data": {
      "text/plain": [
       "Pipeline(steps=[('tfidf', TfidfVectorizer()),\n",
       "                ('classifier', SVC(kernel='linear'))])"
      ]
     },
     "execution_count": 119,
     "metadata": {},
     "output_type": "execute_result"
    }
   ],
   "source": [
    "classifier.fit(x_train, y_train)"
   ]
  },
  {
   "cell_type": "code",
   "execution_count": 120,
   "id": "66aa7cb7",
   "metadata": {},
   "outputs": [],
   "source": [
    "from sklearn.metrics import accuracy_score, classification_report, confusion_matrix"
   ]
  },
  {
   "cell_type": "code",
   "execution_count": 127,
   "id": "a2423799",
   "metadata": {},
   "outputs": [],
   "source": [
    "text = [\"what percent of 54 is 135 ? cluster22\"]\n",
    "y_pred = classifier.predict(text)"
   ]
  },
  {
   "cell_type": "code",
   "execution_count": 128,
   "id": "c45d3402",
   "metadata": {},
   "outputs": [
    {
     "data": {
      "text/plain": [
       "array(['word problem  calculating percentage'], dtype=object)"
      ]
     },
     "execution_count": 128,
     "metadata": {},
     "output_type": "execute_result"
    }
   ],
   "source": [
    "y_pred"
   ]
  },
  {
   "cell_type": "code",
   "execution_count": 98,
   "id": "04e63049",
   "metadata": {},
   "outputs": [
    {
     "data": {
      "text/plain": [
       "array([[68,  0,  0, ...,  0,  0,  0],\n",
       "       [ 0, 17,  0, ...,  1,  0,  0],\n",
       "       [ 2,  0, 18, ...,  0,  0,  2],\n",
       "       ...,\n",
       "       [ 2,  4,  0, ..., 46,  1,  0],\n",
       "       [ 0,  0,  0, ...,  0, 89,  0],\n",
       "       [ 0,  1,  0, ...,  0,  0, 36]])"
      ]
     },
     "execution_count": 98,
     "metadata": {},
     "output_type": "execute_result"
    }
   ],
   "source": [
    "confusion_matrix(y_test, y_pred)"
   ]
  },
  {
   "cell_type": "code",
   "execution_count": 99,
   "id": "d866c589",
   "metadata": {},
   "outputs": [
    {
     "name": "stdout",
     "output_type": "stream",
     "text": [
      "                                                                                                                                        precision    recall  f1-score   support\n",
      "\n",
      "                                                                                                                dividing mixed numbers       0.47      0.58      0.52       117\n",
      "                                                                                                          exponential growth and decay       0.38      0.32      0.35        53\n",
      "                                                                                                           forward discount percentage       0.75      0.47      0.58        38\n",
      "                                                                                                                    forward percentage       0.68      0.62      0.65        82\n",
      "                                                                                                                    inverse percentage       0.95      0.67      0.78        30\n",
      "                                                                                                                 least common multiple       0.53      0.44      0.48        52\n",
      "                                                                                                                       mixed fractions       0.00      0.00      0.00         1\n",
      "                                                                                                         permutations and combinations       0.51      0.69      0.58       144\n",
      "                                                                                     permutations and combinations problem with digits       0.86      0.69      0.76        35\n",
      "                                                                                              scaled models and application of scaling       0.46      0.41      0.43       102\n",
      "                                                                                                            sequences and progressions       0.54      0.36      0.43        76\n",
      "                                                                        slope of line  parallel line  perpendicular line  given points       0.54      0.65      0.59       125\n",
      "                                                                                           word problem  application of relative speed       0.63      0.57      0.60        42\n",
      "                                                                                                  word problem  calculating percentage       0.54      0.39      0.45        98\n",
      "                                                                                           word problem  combined rates  harmonic mean       0.72      0.81      0.76        84\n",
      "                                                                      word problem  forward application of multiplication and addition       1.00      0.42      0.59        19\n",
      "                                                word problem  linear equation in one variable  application of speed  distance and time       0.52      0.73      0.61        85\n",
      "                                                          word problem  linear equation in one variable  knowledge of average and mean       0.60      0.47      0.53        75\n",
      "                                                                word problem  linear equation in one variable  knowledge of percentage       0.57      0.46      0.51       142\n",
      "                                                                                                             word problem  probability       0.66      0.79      0.72       251\n",
      "                                                                                               word problem  ratios  similar triangles       0.46      0.52      0.49        83\n",
      "                                                                                                 word problem  set theory venn diagram       0.63      0.47      0.54        62\n",
      "                                                                word problem  setting up a straight line equation  solve for x given y       0.34      0.39      0.36        71\n",
      "word problem  setting up equations of two straight lines  finding point of intersection  system of linear equations with two variables       0.51      0.58      0.54        45\n",
      "                                                                       word problem  simple application of ratio  equivalent fractions       0.52      0.39      0.45        79\n",
      "                                                                                  word problem  simple linear equation in one variable       0.59      0.57      0.58       102\n",
      "                                               word problem  simple linear equation in one variable  knowledge of fractions and ratios       0.52      0.43      0.47        74\n",
      "                                         word problem  simple system of equations with two variables  knowledge of quadratic equations       0.65      0.67      0.66        36\n",
      "                                         word problem  simple system of linear equations in two variables  knowledge of relative speed       0.78      0.30      0.44        23\n",
      "                                                                              word problem  simple system of linear equations with one       0.58      0.71      0.64        41\n",
      "                                                          word problem  simple system of linear equations with three or more variables       0.51      0.39      0.44        67\n",
      "                                                                    word problem  simple system of linear equations with two variables       0.66      0.78      0.71       230\n",
      "                                      word problem  simple system of linear equations with two variables  knowledge of decimal numbers       0.51      0.59      0.55        94\n",
      "           word problem  simple system of linear equations with two variables  knowledge of decimal numbers  extra step after solution       0.74      0.51      0.61        72\n",
      "                                 word problem  simple system of linear equations with two variables  knowledge of fractions and ratios       0.44      0.53      0.48        98\n",
      "                                            word problem  simple system of linear equations with two variables  knowledge of perimeter       0.72      0.76      0.74        74\n",
      "         word problem  simple system of linear equations with two variables  knowledge of relationship between a number and its digits       0.93      0.65      0.76        20\n",
      "                                      word problem  simple system of linear equations with two variables  knowledge of simple interest       0.70      0.73      0.71       124\n",
      "    word problem  simple system of linear equations with two variables  knowledge of upstream and downstream speeds  distance and time       0.85      0.52      0.65        88\n",
      "                                            word problem  system of equations with two varibles  knowledge of quadratics  area formula       0.67      0.76      0.71       117\n",
      "                                                    word problem  system of linear equations in two variables  knowledge of percentage       0.63      0.47      0.54        76\n",
      "\n",
      "                                                                                                                              accuracy                           0.59      3327\n",
      "                                                                                                                             macro avg       0.61      0.54      0.56      3327\n",
      "                                                                                                                          weighted avg       0.60      0.59      0.58      3327\n",
      "\n"
     ]
    },
    {
     "name": "stderr",
     "output_type": "stream",
     "text": [
      "/opt/anaconda3/envs/my_project21/lib/python3.8/site-packages/sklearn/metrics/_classification.py:1308: UndefinedMetricWarning: Precision and F-score are ill-defined and being set to 0.0 in labels with no predicted samples. Use `zero_division` parameter to control this behavior.\n",
      "  _warn_prf(average, modifier, msg_start, len(result))\n",
      "/opt/anaconda3/envs/my_project21/lib/python3.8/site-packages/sklearn/metrics/_classification.py:1308: UndefinedMetricWarning: Precision and F-score are ill-defined and being set to 0.0 in labels with no predicted samples. Use `zero_division` parameter to control this behavior.\n",
      "  _warn_prf(average, modifier, msg_start, len(result))\n",
      "/opt/anaconda3/envs/my_project21/lib/python3.8/site-packages/sklearn/metrics/_classification.py:1308: UndefinedMetricWarning: Precision and F-score are ill-defined and being set to 0.0 in labels with no predicted samples. Use `zero_division` parameter to control this behavior.\n",
      "  _warn_prf(average, modifier, msg_start, len(result))\n"
     ]
    }
   ],
   "source": [
    "print(classification_report(y_test, y_pred))"
   ]
  },
  {
   "cell_type": "code",
   "execution_count": 100,
   "id": "8fbd72ac",
   "metadata": {},
   "outputs": [
    {
     "data": {
      "text/plain": [
       "0.5876164712954614"
      ]
     },
     "execution_count": 100,
     "metadata": {},
     "output_type": "execute_result"
    }
   ],
   "source": [
    "accuracy_score(y_test, y_pred)"
   ]
  },
  {
   "cell_type": "code",
   "execution_count": null,
   "id": "cdc1afe3",
   "metadata": {},
   "outputs": [],
   "source": []
  }
 ],
 "metadata": {
  "kernelspec": {
   "display_name": "Python 3 (ipykernel)",
   "language": "python",
   "name": "python3"
  },
  "language_info": {
   "codemirror_mode": {
    "name": "ipython",
    "version": 3
   },
   "file_extension": ".py",
   "mimetype": "text/x-python",
   "name": "python",
   "nbconvert_exporter": "python",
   "pygments_lexer": "ipython3",
   "version": "3.8.12"
  }
 },
 "nbformat": 4,
 "nbformat_minor": 5
}
